{
 "cells": [
  {
   "cell_type": "code",
   "execution_count": 103,
   "id": "28f3d72e",
   "metadata": {},
   "outputs": [],
   "source": [
    "import numpy as np\n",
    "import pandas as pd\n",
    "import matplotlib.pyplot as plt\n",
    "%matplotlib inline\n",
    "import seaborn as sns\n",
    "\n",
    "from sklearn.linear_model import LinearRegression\n",
    "from sklearn.ensemble import RandomForestRegressor, GradientBoostingRegressor\n",
    "from sklearn.tree import DecisionTreeRegressor\n",
    "from sklearn.metrics import mean_squared_error, r2_score\n",
    "from sklearn.model_selection import train_test_split, GridSearchCV"
   ]
  },
  {
   "cell_type": "code",
   "execution_count": 57,
   "id": "6eb291e1",
   "metadata": {},
   "outputs": [],
   "source": [
    "dataframe_csv = pd.read_csv('data-processed/measurements2_clean_withoutna_withdummies.csv')\n",
    "df = dataframe_csv.copy()"
   ]
  },
  {
   "cell_type": "code",
   "execution_count": 58,
   "id": "9f38db65",
   "metadata": {},
   "outputs": [
    {
     "data": {
      "text/html": [
       "<div>\n",
       "<style scoped>\n",
       "    .dataframe tbody tr th:only-of-type {\n",
       "        vertical-align: middle;\n",
       "    }\n",
       "\n",
       "    .dataframe tbody tr th {\n",
       "        vertical-align: top;\n",
       "    }\n",
       "\n",
       "    .dataframe thead th {\n",
       "        text-align: right;\n",
       "    }\n",
       "</style>\n",
       "<table border=\"1\" class=\"dataframe\">\n",
       "  <thead>\n",
       "    <tr style=\"text-align: right;\">\n",
       "      <th></th>\n",
       "      <th>distance</th>\n",
       "      <th>consume</th>\n",
       "      <th>speed</th>\n",
       "      <th>t_in</th>\n",
       "      <th>t_out</th>\n",
       "      <th>gas</th>\n",
       "      <th>ac</th>\n",
       "      <th>rain</th>\n",
       "      <th>sun</th>\n",
       "      <th>gas_dums</th>\n",
       "    </tr>\n",
       "  </thead>\n",
       "  <tbody>\n",
       "    <tr>\n",
       "      <th>61</th>\n",
       "      <td>9.8</td>\n",
       "      <td>5.8</td>\n",
       "      <td>24</td>\n",
       "      <td>21.5</td>\n",
       "      <td>6</td>\n",
       "      <td>SP98</td>\n",
       "      <td>0</td>\n",
       "      <td>0</td>\n",
       "      <td>0</td>\n",
       "      <td>1</td>\n",
       "    </tr>\n",
       "    <tr>\n",
       "      <th>317</th>\n",
       "      <td>15.4</td>\n",
       "      <td>4.5</td>\n",
       "      <td>43</td>\n",
       "      <td>22.0</td>\n",
       "      <td>24</td>\n",
       "      <td>E10</td>\n",
       "      <td>0</td>\n",
       "      <td>0</td>\n",
       "      <td>0</td>\n",
       "      <td>0</td>\n",
       "    </tr>\n",
       "    <tr>\n",
       "      <th>252</th>\n",
       "      <td>12.4</td>\n",
       "      <td>4.7</td>\n",
       "      <td>55</td>\n",
       "      <td>22.5</td>\n",
       "      <td>14</td>\n",
       "      <td>E10</td>\n",
       "      <td>0</td>\n",
       "      <td>0</td>\n",
       "      <td>1</td>\n",
       "      <td>0</td>\n",
       "    </tr>\n",
       "    <tr>\n",
       "      <th>107</th>\n",
       "      <td>16.6</td>\n",
       "      <td>5.1</td>\n",
       "      <td>56</td>\n",
       "      <td>21.0</td>\n",
       "      <td>7</td>\n",
       "      <td>SP98</td>\n",
       "      <td>0</td>\n",
       "      <td>0</td>\n",
       "      <td>0</td>\n",
       "      <td>1</td>\n",
       "    </tr>\n",
       "    <tr>\n",
       "      <th>140</th>\n",
       "      <td>12.4</td>\n",
       "      <td>4.3</td>\n",
       "      <td>49</td>\n",
       "      <td>21.5</td>\n",
       "      <td>17</td>\n",
       "      <td>E10</td>\n",
       "      <td>0</td>\n",
       "      <td>0</td>\n",
       "      <td>0</td>\n",
       "      <td>0</td>\n",
       "    </tr>\n",
       "    <tr>\n",
       "      <th>72</th>\n",
       "      <td>9.7</td>\n",
       "      <td>3.9</td>\n",
       "      <td>42</td>\n",
       "      <td>21.5</td>\n",
       "      <td>8</td>\n",
       "      <td>SP98</td>\n",
       "      <td>0</td>\n",
       "      <td>0</td>\n",
       "      <td>0</td>\n",
       "      <td>1</td>\n",
       "    </tr>\n",
       "    <tr>\n",
       "      <th>257</th>\n",
       "      <td>11.8</td>\n",
       "      <td>4.5</td>\n",
       "      <td>28</td>\n",
       "      <td>22.5</td>\n",
       "      <td>12</td>\n",
       "      <td>E10</td>\n",
       "      <td>0</td>\n",
       "      <td>0</td>\n",
       "      <td>0</td>\n",
       "      <td>0</td>\n",
       "    </tr>\n",
       "    <tr>\n",
       "      <th>109</th>\n",
       "      <td>15.9</td>\n",
       "      <td>5.4</td>\n",
       "      <td>25</td>\n",
       "      <td>21.0</td>\n",
       "      <td>7</td>\n",
       "      <td>SP98</td>\n",
       "      <td>0</td>\n",
       "      <td>0</td>\n",
       "      <td>0</td>\n",
       "      <td>1</td>\n",
       "    </tr>\n",
       "    <tr>\n",
       "      <th>33</th>\n",
       "      <td>32.6</td>\n",
       "      <td>4.8</td>\n",
       "      <td>40</td>\n",
       "      <td>21.5</td>\n",
       "      <td>7</td>\n",
       "      <td>E10</td>\n",
       "      <td>0</td>\n",
       "      <td>0</td>\n",
       "      <td>0</td>\n",
       "      <td>0</td>\n",
       "    </tr>\n",
       "    <tr>\n",
       "      <th>195</th>\n",
       "      <td>19.6</td>\n",
       "      <td>4.9</td>\n",
       "      <td>43</td>\n",
       "      <td>21.5</td>\n",
       "      <td>13</td>\n",
       "      <td>SP98</td>\n",
       "      <td>0</td>\n",
       "      <td>0</td>\n",
       "      <td>0</td>\n",
       "      <td>1</td>\n",
       "    </tr>\n",
       "  </tbody>\n",
       "</table>\n",
       "</div>"
      ],
      "text/plain": [
       "     distance  consume  speed  t_in  t_out   gas  ac  rain  sun  gas_dums\n",
       "61        9.8      5.8     24  21.5      6  SP98   0     0    0         1\n",
       "317      15.4      4.5     43  22.0     24   E10   0     0    0         0\n",
       "252      12.4      4.7     55  22.5     14   E10   0     0    1         0\n",
       "107      16.6      5.1     56  21.0      7  SP98   0     0    0         1\n",
       "140      12.4      4.3     49  21.5     17   E10   0     0    0         0\n",
       "72        9.7      3.9     42  21.5      8  SP98   0     0    0         1\n",
       "257      11.8      4.5     28  22.5     12   E10   0     0    0         0\n",
       "109      15.9      5.4     25  21.0      7  SP98   0     0    0         1\n",
       "33       32.6      4.8     40  21.5      7   E10   0     0    0         0\n",
       "195      19.6      4.9     43  21.5     13  SP98   0     0    0         1"
      ]
     },
     "execution_count": 58,
     "metadata": {},
     "output_type": "execute_result"
    }
   ],
   "source": [
    "df.sample(10)"
   ]
  },
  {
   "cell_type": "code",
   "execution_count": 59,
   "id": "63900e21",
   "metadata": {},
   "outputs": [
    {
     "data": {
      "text/plain": [
       "(array([0, 1]), [Text(0, 0, 'E10'), Text(1, 0, 'SP98')])"
      ]
     },
     "execution_count": 59,
     "metadata": {},
     "output_type": "execute_result"
    },
    {
     "data": {
      "image/png": "[encoded data removed]",
      "text/plain": [
       "<Figure size 432x288 with 1 Axes>"
      ]
     },
     "metadata": {
      "needs_background": "light"
     },
     "output_type": "display_data"
    }
   ],
   "source": [
    "sns.barplot(x='gas',y='consume',data=df,palette=\"rocket\")\n",
    "plt.xticks(rotation=-45)"
   ]
  },
  {
   "cell_type": "code",
   "execution_count": 60,
   "id": "fef1c417",
   "metadata": {},
   "outputs": [
    {
     "data": {
      "text/plain": [
       "(array([0, 1]), [Text(0, 0, 'E10'), Text(1, 0, 'SP98')])"
      ]
     },
     "execution_count": 60,
     "metadata": {},
     "output_type": "execute_result"
    },
    {
     "data": {
      "image/png": "[encoded data removed]",
      "text/plain": [
       "<Figure size 432x288 with 1 Axes>"
      ]
     },
     "metadata": {
      "needs_background": "light"
     },
     "output_type": "display_data"
    }
   ],
   "source": [
    "sns.barplot(x='gas',y='distance',data=df,palette=\"rocket\")\n",
    "plt.xticks(rotation=-45)"
   ]
  },
  {
   "cell_type": "code",
   "execution_count": 61,
   "id": "606ebc62",
   "metadata": {},
   "outputs": [
    {
     "data": {
      "text/html": [
       "<div>\n",
       "<style scoped>\n",
       "    .dataframe tbody tr th:only-of-type {\n",
       "        vertical-align: middle;\n",
       "    }\n",
       "\n",
       "    .dataframe tbody tr th {\n",
       "        vertical-align: top;\n",
       "    }\n",
       "\n",
       "    .dataframe thead th {\n",
       "        text-align: right;\n",
       "    }\n",
       "</style>\n",
       "<table border=\"1\" class=\"dataframe\">\n",
       "  <thead>\n",
       "    <tr style=\"text-align: right;\">\n",
       "      <th></th>\n",
       "      <th>distance</th>\n",
       "      <th>consume</th>\n",
       "      <th>speed</th>\n",
       "      <th>t_in</th>\n",
       "      <th>t_out</th>\n",
       "      <th>gas</th>\n",
       "      <th>ac</th>\n",
       "      <th>rain</th>\n",
       "      <th>sun</th>\n",
       "      <th>gas_dums</th>\n",
       "    </tr>\n",
       "  </thead>\n",
       "  <tbody>\n",
       "    <tr>\n",
       "      <th>0</th>\n",
       "      <td>28.0</td>\n",
       "      <td>5.0</td>\n",
       "      <td>26</td>\n",
       "      <td>21.5</td>\n",
       "      <td>12</td>\n",
       "      <td>E10</td>\n",
       "      <td>0</td>\n",
       "      <td>0</td>\n",
       "      <td>0</td>\n",
       "      <td>0</td>\n",
       "    </tr>\n",
       "    <tr>\n",
       "      <th>1</th>\n",
       "      <td>12.0</td>\n",
       "      <td>4.2</td>\n",
       "      <td>30</td>\n",
       "      <td>21.5</td>\n",
       "      <td>13</td>\n",
       "      <td>E10</td>\n",
       "      <td>0</td>\n",
       "      <td>0</td>\n",
       "      <td>0</td>\n",
       "      <td>0</td>\n",
       "    </tr>\n",
       "    <tr>\n",
       "      <th>2</th>\n",
       "      <td>11.2</td>\n",
       "      <td>5.5</td>\n",
       "      <td>38</td>\n",
       "      <td>21.5</td>\n",
       "      <td>15</td>\n",
       "      <td>E10</td>\n",
       "      <td>0</td>\n",
       "      <td>0</td>\n",
       "      <td>0</td>\n",
       "      <td>0</td>\n",
       "    </tr>\n",
       "    <tr>\n",
       "      <th>3</th>\n",
       "      <td>12.9</td>\n",
       "      <td>3.9</td>\n",
       "      <td>36</td>\n",
       "      <td>21.5</td>\n",
       "      <td>14</td>\n",
       "      <td>E10</td>\n",
       "      <td>0</td>\n",
       "      <td>0</td>\n",
       "      <td>0</td>\n",
       "      <td>0</td>\n",
       "    </tr>\n",
       "    <tr>\n",
       "      <th>4</th>\n",
       "      <td>18.5</td>\n",
       "      <td>4.5</td>\n",
       "      <td>46</td>\n",
       "      <td>21.5</td>\n",
       "      <td>15</td>\n",
       "      <td>E10</td>\n",
       "      <td>0</td>\n",
       "      <td>0</td>\n",
       "      <td>0</td>\n",
       "      <td>0</td>\n",
       "    </tr>\n",
       "    <tr>\n",
       "      <th>...</th>\n",
       "      <td>...</td>\n",
       "      <td>...</td>\n",
       "      <td>...</td>\n",
       "      <td>...</td>\n",
       "      <td>...</td>\n",
       "      <td>...</td>\n",
       "      <td>...</td>\n",
       "      <td>...</td>\n",
       "      <td>...</td>\n",
       "      <td>...</td>\n",
       "    </tr>\n",
       "    <tr>\n",
       "      <th>372</th>\n",
       "      <td>16.0</td>\n",
       "      <td>3.7</td>\n",
       "      <td>39</td>\n",
       "      <td>24.5</td>\n",
       "      <td>18</td>\n",
       "      <td>SP98</td>\n",
       "      <td>0</td>\n",
       "      <td>0</td>\n",
       "      <td>0</td>\n",
       "      <td>1</td>\n",
       "    </tr>\n",
       "    <tr>\n",
       "      <th>373</th>\n",
       "      <td>16.1</td>\n",
       "      <td>4.3</td>\n",
       "      <td>38</td>\n",
       "      <td>25.0</td>\n",
       "      <td>31</td>\n",
       "      <td>SP98</td>\n",
       "      <td>1</td>\n",
       "      <td>0</td>\n",
       "      <td>0</td>\n",
       "      <td>1</td>\n",
       "    </tr>\n",
       "    <tr>\n",
       "      <th>374</th>\n",
       "      <td>16.0</td>\n",
       "      <td>3.8</td>\n",
       "      <td>45</td>\n",
       "      <td>25.0</td>\n",
       "      <td>19</td>\n",
       "      <td>SP98</td>\n",
       "      <td>0</td>\n",
       "      <td>0</td>\n",
       "      <td>0</td>\n",
       "      <td>1</td>\n",
       "    </tr>\n",
       "    <tr>\n",
       "      <th>375</th>\n",
       "      <td>15.4</td>\n",
       "      <td>4.6</td>\n",
       "      <td>42</td>\n",
       "      <td>25.0</td>\n",
       "      <td>31</td>\n",
       "      <td>SP98</td>\n",
       "      <td>1</td>\n",
       "      <td>0</td>\n",
       "      <td>0</td>\n",
       "      <td>1</td>\n",
       "    </tr>\n",
       "    <tr>\n",
       "      <th>376</th>\n",
       "      <td>14.7</td>\n",
       "      <td>5.0</td>\n",
       "      <td>25</td>\n",
       "      <td>25.0</td>\n",
       "      <td>30</td>\n",
       "      <td>SP98</td>\n",
       "      <td>1</td>\n",
       "      <td>0</td>\n",
       "      <td>0</td>\n",
       "      <td>1</td>\n",
       "    </tr>\n",
       "  </tbody>\n",
       "</table>\n",
       "<p>377 rows × 10 columns</p>\n",
       "</div>"
      ],
      "text/plain": [
       "     distance  consume  speed  t_in  t_out   gas  ac  rain  sun  gas_dums\n",
       "0        28.0      5.0     26  21.5     12   E10   0     0    0         0\n",
       "1        12.0      4.2     30  21.5     13   E10   0     0    0         0\n",
       "2        11.2      5.5     38  21.5     15   E10   0     0    0         0\n",
       "3        12.9      3.9     36  21.5     14   E10   0     0    0         0\n",
       "4        18.5      4.5     46  21.5     15   E10   0     0    0         0\n",
       "..        ...      ...    ...   ...    ...   ...  ..   ...  ...       ...\n",
       "372      16.0      3.7     39  24.5     18  SP98   0     0    0         1\n",
       "373      16.1      4.3     38  25.0     31  SP98   1     0    0         1\n",
       "374      16.0      3.8     45  25.0     19  SP98   0     0    0         1\n",
       "375      15.4      4.6     42  25.0     31  SP98   1     0    0         1\n",
       "376      14.7      5.0     25  25.0     30  SP98   1     0    0         1\n",
       "\n",
       "[377 rows x 10 columns]"
      ]
     },
     "execution_count": 61,
     "metadata": {},
     "output_type": "execute_result"
    }
   ],
   "source": [
    "df"
   ]
  },
  {
   "cell_type": "code",
   "execution_count": 62,
   "id": "1729c725",
   "metadata": {},
   "outputs": [],
   "source": [
    "df1 = df.drop(columns=['gas'])"
   ]
  },
  {
   "cell_type": "code",
   "execution_count": 63,
   "id": "2f520036",
   "metadata": {},
   "outputs": [],
   "source": [
    "X= df1.loc[:, df1.columns != 'consume']\n",
    "y = df1.consume\n",
    "X_train, X_test, y_train, y_test = train_test_split(\n",
    "    X, y, \n",
    "    test_size=0.20, \n",
    "    random_state=666)"
   ]
  },
  {
   "cell_type": "code",
   "execution_count": 64,
   "id": "918448ab",
   "metadata": {},
   "outputs": [
    {
     "name": "stdout",
     "output_type": "stream",
     "text": [
      "(301, 8)\n",
      "(76, 8)\n",
      "(301,)\n",
      "(76,)\n"
     ]
    }
   ],
   "source": [
    "print(X_train.shape)\n",
    "print(X_test.shape)\n",
    "print(y_train.shape)\n",
    "print(y_test.shape)"
   ]
  },
  {
   "cell_type": "markdown",
   "id": "ee63eeb2",
   "metadata": {},
   "source": [
    "### LINEAR REGRESSION"
   ]
  },
  {
   "cell_type": "code",
   "execution_count": 65,
   "id": "22aeefbc",
   "metadata": {},
   "outputs": [
    {
     "data": {
      "text/plain": [
       "LinearRegression()"
      ]
     },
     "execution_count": 65,
     "metadata": {},
     "output_type": "execute_result"
    }
   ],
   "source": [
    "lr = LinearRegression()\n",
    "lr.fit(X_train, y_train)"
   ]
  },
  {
   "cell_type": "code",
   "execution_count": 96,
   "id": "a112c13d",
   "metadata": {},
   "outputs": [],
   "source": [
    "train = lr.predict(X_train)\n",
    "train_mse = mean_squared_error(y_train, train)\n",
    "train_rmse = np.sqrt(train_mse)\n",
    "train_r2 = r2_score(y_train, train)\n",
    "\n",
    "test = lr.predict(X_test)\n",
    "test_mse= mean_squared_error(y_test, test)\n",
    "test_rmse = np.sqrt(test_mse)\n",
    "test_r2 = r2_score(y_test, test)"
   ]
  },
  {
   "cell_type": "code",
   "execution_count": 97,
   "id": "1534dfbc",
   "metadata": {},
   "outputs": [
    {
     "name": "stdout",
     "output_type": "stream",
     "text": [
      "train_mse = 0.8860302965536877 \n",
      " train_rmse = 0.9412918232693237 \n",
      " train_r2 = 0.2763500155496572 \n",
      "\n",
      " test_mse = 0.4852149614304332 \n",
      " test_rmse = 0.696573730074881 \n",
      " test_r2 = 0.12395703333931973 \n",
      "\n"
     ]
    }
   ],
   "source": [
    "print(\n",
    "\"train_mse =\", train_mse,\"\\n\",\n",
    "\"train_rmse =\", train_rmse,\"\\n\",\n",
    "\"train_r2 =\", train_r2, \"\\n\"*2,\n",
    "\"test_mse =\", test_mse, \"\\n\",\n",
    "\"test_rmse =\", test_rmse, \"\\n\",\n",
    "\"test_r2 =\", test_r2, \"\\n\"\n",
    ")"
   ]
  },
  {
   "cell_type": "code",
   "execution_count": 91,
   "id": "1f8d690f",
   "metadata": {},
   "outputs": [
    {
     "name": "stderr",
     "output_type": "stream",
     "text": [
      "/usr/local/Caskroom/miniconda/base/envs/reto/lib/python3.8/site-packages/seaborn/distributions.py:2557: FutureWarning: `distplot` is a deprecated function and will be removed in a future version. Please adapt your code to use either `displot` (a figure-level function with similar flexibility) or `histplot` (an axes-level function for histograms).\n",
      "  warnings.warn(msg, FutureWarning)\n",
      "/usr/local/Caskroom/miniconda/base/envs/reto/lib/python3.8/site-packages/seaborn/distributions.py:2557: FutureWarning: `distplot` is a deprecated function and will be removed in a future version. Please adapt your code to use either `displot` (a figure-level function with similar flexibility) or `histplot` (an axes-level function for histograms).\n",
      "  warnings.warn(msg, FutureWarning)\n"
     ]
    },
    {
     "data": {
      "image/png": "[encoded data removed]",
      "text/plain": [
       "<Figure size 1008x576 with 1 Axes>"
      ]
     },
     "metadata": {},
     "output_type": "display_data"
    }
   ],
   "source": [
    "sns.set_context('poster')\n",
    "sns.set(rc={'figure.figsize': (14, 8)})\n",
    "sns.set_style('darkgrid')\n",
    "ax1 = sns.distplot(y_test, color=\"r\", label=\"y_test real values\")\n",
    "ax2 = sns.distplot(test, color=\"b\", label=\"y_test predicted values\", ax=ax1)\n",
    "plt.title(\"CONSUMPTION: PREDICTED vs. REAL\", size=16)\n",
    "plt.xlabel(\"FEATURES\", size=14)\n",
    "plt.ylabel(\"CONSUMPTION\", size=14)\n",
    "plt.legend()\n",
    "plt.show()"
   ]
  },
  {
   "cell_type": "markdown",
   "id": "c55b3e82",
   "metadata": {},
   "source": [
    "### DECISION TREE"
   ]
  },
  {
   "cell_type": "code",
   "execution_count": 94,
   "id": "0f42107b",
   "metadata": {},
   "outputs": [
    {
     "data": {
      "text/plain": [
       "DecisionTreeRegressor()"
      ]
     },
     "execution_count": 94,
     "metadata": {},
     "output_type": "execute_result"
    }
   ],
   "source": [
    "tree = DecisionTreeRegressor()\n",
    "tree.fit(X_train, y_train)"
   ]
  },
  {
   "cell_type": "code",
   "execution_count": 98,
   "id": "fa1a8fad",
   "metadata": {},
   "outputs": [],
   "source": [
    "train = tree.predict(X_train)\n",
    "train_mse = mean_squared_error(y_train, train)\n",
    "train_rmse = np.sqrt(train_mse)\n",
    "train_r2 = r2_score(y_train, train)\n",
    "\n",
    "test = tree.predict(X_test)\n",
    "test_mse= mean_squared_error(y_test, test)\n",
    "test_rmse = np.sqrt(test_mse)\n",
    "test_r2 = r2_score(y_test, test)"
   ]
  },
  {
   "cell_type": "code",
   "execution_count": 99,
   "id": "64c55d29",
   "metadata": {},
   "outputs": [
    {
     "name": "stdout",
     "output_type": "stream",
     "text": [
      "train_mse = 0.0020099667774086368 \n",
      " train_rmse = 0.04483265302665722 \n",
      " train_r2 = 0.9983583942525724 \n",
      "\n",
      " test_mse = 0.7048684210526317 \n",
      " test_rmse = 0.8395644234081335 \n",
      " test_r2 = -0.2726215631603297 \n",
      "\n"
     ]
    }
   ],
   "source": [
    "print(\n",
    "\"train_mse =\", train_mse,\"\\n\",\n",
    "\"train_rmse =\", train_rmse,\"\\n\",\n",
    "\"train_r2 =\", train_r2, \"\\n\"*2,\n",
    "\"test_mse =\", test_mse, \"\\n\",\n",
    "\"test_rmse =\", test_rmse, \"\\n\",\n",
    "\"test_r2 =\", test_r2, \"\\n\"\n",
    ")"
   ]
  },
  {
   "cell_type": "markdown",
   "id": "cded55fa",
   "metadata": {},
   "source": [
    "### RANDOM FOREST"
   ]
  },
  {
   "cell_type": "code",
   "execution_count": 100,
   "id": "19b977e8",
   "metadata": {},
   "outputs": [
    {
     "data": {
      "text/plain": [
       "RandomForestRegressor()"
      ]
     },
     "execution_count": 100,
     "metadata": {},
     "output_type": "execute_result"
    }
   ],
   "source": [
    "rf = RandomForestRegressor()\n",
    "rf.fit(X_train, y_train)"
   ]
  },
  {
   "cell_type": "code",
   "execution_count": 101,
   "id": "8e694a34",
   "metadata": {},
   "outputs": [],
   "source": [
    "train = rf.predict(X_train)\n",
    "train_mse = mean_squared_error(y_train, train)\n",
    "train_rmse = np.sqrt(train_mse)\n",
    "train_r2 = r2_score(y_train, train)\n",
    "\n",
    "test = rf.predict(X_test)\n",
    "test_mse= mean_squared_error(y_test, test)\n",
    "test_rmse = np.sqrt(test_mse)\n",
    "test_r2 = r2_score(y_test, test)"
   ]
  },
  {
   "cell_type": "code",
   "execution_count": 102,
   "id": "a199c517",
   "metadata": {},
   "outputs": [
    {
     "name": "stdout",
     "output_type": "stream",
     "text": [
      "train_mse = 0.06957781058462516 \n",
      " train_rmse = 0.2637760614320889 \n",
      " train_r2 = 0.9431735215562101 \n",
      "\n",
      " test_mse = 0.2667885378326022 \n",
      " test_rmse = 0.5165157672642745 \n",
      " test_r2 = 0.5183202482773259 \n",
      "\n"
     ]
    }
   ],
   "source": [
    "print(\n",
    "\"train_mse =\", train_mse,\"\\n\",\n",
    "\"train_rmse =\", train_rmse,\"\\n\",\n",
    "\"train_r2 =\", train_r2, \"\\n\"*2,\n",
    "\"test_mse =\", test_mse, \"\\n\",\n",
    "\"test_rmse =\", test_rmse, \"\\n\",\n",
    "\"test_r2 =\", test_r2, \"\\n\"\n",
    ")"
   ]
  },
  {
   "cell_type": "markdown",
   "id": "e33e218b",
   "metadata": {},
   "source": [
    "### GRADIENT BOOSTING"
   ]
  },
  {
   "cell_type": "code",
   "execution_count": 107,
   "id": "3fe96e14",
   "metadata": {},
   "outputs": [
    {
     "name": "stdout",
     "output_type": "stream",
     "text": [
      "Fitting 5 folds for each of 24 candidates, totalling 120 fits\n"
     ]
    },
    {
     "data": {
      "text/plain": [
       "GridSearchCV(estimator=GradientBoostingRegressor(),\n",
       "             param_grid={'learning_rate': [0.01, 0.001], 'max_depth': [2, 4, 5],\n",
       "                         'max_features': [4], 'min_samples_leaf': [10, 20],\n",
       "                         'n_estimators': [1000, 3000]},\n",
       "             verbose=1)"
      ]
     },
     "execution_count": 107,
     "metadata": {},
     "output_type": "execute_result"
    }
   ],
   "source": [
    "params1 = {'learning_rate': [0.01, 0.001],\n",
    "                   'n_estimators': [1000, 3000],\n",
    "               'max_features': [4],\n",
    "               'max_depth': [2, 4, 5],\n",
    "               'min_samples_leaf': [10, 20]\n",
    "          }\n",
    "gb = GradientBoostingRegressor()\n",
    "gs = GridSearchCV(\n",
    "    gb,\n",
    "    param_grid =params1,\n",
    "    verbose = 1)\n",
    "\n",
    "gs.fit(X_train, y_train)\n",
    "\n"
   ]
  },
  {
   "cell_type": "code",
   "execution_count": 109,
   "id": "e6fa360b",
   "metadata": {},
   "outputs": [],
   "source": [
    "best = gs.best_estimator_\n",
    "\n",
    "y_pred = best.predict(X_test) \n",
    "score = mean_squared_error(y_test, y_pred)\n",
    "best_params = (gs.best_params_)"
   ]
  },
  {
   "cell_type": "code",
   "execution_count": 111,
   "id": "039a43d2",
   "metadata": {},
   "outputs": [
    {
     "name": "stdout",
     "output_type": "stream",
     "text": [
      "score =  0.26922145881489695 \n",
      "\n",
      " best_params =  \n",
      " {'learning_rate': 0.01, 'max_depth': 5, 'max_features': 4, 'min_samples_leaf': 20, 'n_estimators': 1000} \n",
      "\n"
     ]
    }
   ],
   "source": [
    "print(\n",
    "'score = ',score, '\\n'*2,\n",
    "'best_params = ','\\n', best_params,'\\n')"
   ]
  },
  {
   "cell_type": "code",
   "execution_count": null,
   "id": "2cac0664",
   "metadata": {},
   "outputs": [],
   "source": []
  }
 ],
 "metadata": {
  "kernelspec": {
   "display_name": "reto",
   "language": "python",
   "name": "reto"
  },
  "language_info": {
   "codemirror_mode": {
    "name": "ipython",
    "version": 3
   },
   "file_extension": ".py",
   "mimetype": "text/x-python",
   "name": "python",
   "nbconvert_exporter": "python",
   "pygments_lexer": "ipython3",
   "version": "3.8.5"
  }
 },
 "nbformat": 4,
 "nbformat_minor": 5
}
